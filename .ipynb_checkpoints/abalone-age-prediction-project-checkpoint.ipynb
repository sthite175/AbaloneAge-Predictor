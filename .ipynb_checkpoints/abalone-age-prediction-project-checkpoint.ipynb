{
 "cells": [
  {
   "cell_type": "markdown",
   "metadata": {},
   "source": [
    "## Problem Statement"
   ]
  },
  {
   "cell_type": "raw",
   "metadata": {},
   "source": [
    "The age determination of abalone, a valuable marine mollusk, is currently a time-consuming and invasive process that involves cutting the shell and counting growth rings. This traditional method not only poses a threat to the abalone population but also hinders efficient resource management. To address this challenge, there is a growing need for a non-invasive and accurate age prediction model based on easily measurable physical attributes.\n",
    "\n",
    "The aim of this study is to leverage machine learning techniques to predict the age of abalone using features such as shell dimensions, weight, and other physical characteristics. The development of a reliable age prediction model would not only streamline the age estimation process but also contribute to the sustainable management of abalone populations."
   ]
  },
  {
   "cell_type": "markdown",
   "metadata": {},
   "source": [
    "## Import All Libraries Required For This Projects"
   ]
  },
  {
   "cell_type": "code",
   "execution_count": 1,
   "metadata": {
    "execution": {
     "iopub.execute_input": "2023-12-24T10:59:15.874262Z",
     "iopub.status.busy": "2023-12-24T10:59:15.873899Z",
     "iopub.status.idle": "2023-12-24T10:59:15.881923Z",
     "shell.execute_reply": "2023-12-24T10:59:15.880493Z",
     "shell.execute_reply.started": "2023-12-24T10:59:15.874229Z"
    }
   },
   "outputs": [
    {
     "ename": "ModuleNotFoundError",
     "evalue": "No module named 'lightgbm'",
     "output_type": "error",
     "traceback": [
      "\u001b[1;31m---------------------------------------------------------------------------\u001b[0m",
      "\u001b[1;31mModuleNotFoundError\u001b[0m                       Traceback (most recent call last)",
      "Input \u001b[1;32mIn [1]\u001b[0m, in \u001b[0;36m<cell line: 19>\u001b[1;34m()\u001b[0m\n\u001b[0;32m     16\u001b[0m \u001b[38;5;28;01mfrom\u001b[39;00m \u001b[38;5;21;01msklearn\u001b[39;00m\u001b[38;5;21;01m.\u001b[39;00m\u001b[38;5;21;01msvm\u001b[39;00m \u001b[38;5;28;01mimport\u001b[39;00m SVR\n\u001b[0;32m     18\u001b[0m \u001b[38;5;28;01mfrom\u001b[39;00m \u001b[38;5;21;01mxgboost\u001b[39;00m \u001b[38;5;28;01mimport\u001b[39;00m XGBRegressor\n\u001b[1;32m---> 19\u001b[0m \u001b[38;5;28;01mfrom\u001b[39;00m \u001b[38;5;21;01mlightgbm\u001b[39;00m \u001b[38;5;28;01mimport\u001b[39;00m LGBMRegressor\n\u001b[0;32m     20\u001b[0m \u001b[38;5;28;01mfrom\u001b[39;00m \u001b[38;5;21;01mcatboost\u001b[39;00m \u001b[38;5;28;01mimport\u001b[39;00m CatBoostRegressor\n\u001b[0;32m     22\u001b[0m \u001b[38;5;28;01mimport\u001b[39;00m \u001b[38;5;21;01mscipy\u001b[39;00m\u001b[38;5;21;01m.\u001b[39;00m\u001b[38;5;21;01mstats\u001b[39;00m \u001b[38;5;28;01mas\u001b[39;00m \u001b[38;5;21;01msm\u001b[39;00m\n",
      "\u001b[1;31mModuleNotFoundError\u001b[0m: No module named 'lightgbm'"
     ]
    }
   ],
   "source": [
    "import numpy as np \n",
    "import pandas as pd\n",
    "import matplotlib.pyplot as plt\n",
    "import seaborn as sns\n",
    "import pickle\n",
    "import json\n",
    "import os\n",
    "from sklearn.model_selection import train_test_split,GridSearchCV,RandomizedSearchCV\n",
    "from sklearn.metrics import r2_score,mean_absolute_error, mean_squared_error\n",
    "from sklearn.preprocessing import MinMaxScaler,StandardScaler\n",
    "\n",
    "\n",
    "from sklearn.linear_model import LinearRegression,SGDRegressor\n",
    "from sklearn.ensemble import RandomForestRegressor, AdaBoostRegressor\n",
    "from sklearn.neighbors import KNeighborsRegressor\n",
    "from sklearn.svm import SVR\n",
    "\n",
    "from xgboost import XGBRegressor\n",
    "# from lightgbm import LGBMRegressor\n",
    "# from catboost import CatBoostRegressor\n",
    "\n",
    "import scipy.stats as sm"
   ]
  },
  {
   "cell_type": "code",
   "execution_count": null,
   "metadata": {
    "execution": {
     "iopub.execute_input": "2023-12-24T09:54:11.444337Z",
     "iopub.status.busy": "2023-12-24T09:54:11.444000Z",
     "iopub.status.idle": "2023-12-24T09:54:11.448176Z",
     "shell.execute_reply": "2023-12-24T09:54:11.447364Z",
     "shell.execute_reply.started": "2023-12-24T09:54:11.444311Z"
    }
   },
   "outputs": [],
   "source": []
  },
  {
   "cell_type": "markdown",
   "metadata": {},
   "source": [
    "## Load Dataset"
   ]
  },
  {
   "cell_type": "code",
   "execution_count": null,
   "metadata": {
    "execution": {
     "iopub.execute_input": "2023-12-24T09:54:12.083721Z",
     "iopub.status.busy": "2023-12-24T09:54:12.083187Z",
     "iopub.status.idle": "2023-12-24T09:54:12.106599Z",
     "shell.execute_reply": "2023-12-24T09:54:12.105598Z",
     "shell.execute_reply.started": "2023-12-24T09:54:12.083693Z"
    }
   },
   "outputs": [],
   "source": [
    "df = pd.read_csv('abalone.csv')\n",
    "df"
   ]
  },
  {
   "cell_type": "markdown",
   "metadata": {},
   "source": [
    "## About Features"
   ]
  },
  {
   "cell_type": "raw",
   "metadata": {},
   "source": [
    "# Input features\n",
    "1. Sex            : M, F, and I (infant)\n",
    "2. Length         : Longest shell measurement\n",
    "3. Diameter       : perpendicular to length\n",
    "4. Height         : with meat in shell\n",
    "\n",
    "5. Whole weight   : whole abalone\n",
    "6. Shucked weight : weight of meat\n",
    "7. Viscera weight : gut weight (after bleeding)\n",
    "8. Shell weight   : after being dried\n",
    "\n",
    "# Target/Output Features\n",
    "9. Rings          : +1.5 gives the age in years"
   ]
  },
  {
   "cell_type": "markdown",
   "metadata": {},
   "source": [
    "### Input Features Handling"
   ]
  },
  {
   "cell_type": "raw",
   "metadata": {},
   "source": [
    "### CATEGORICAL DATA\n",
    "Most of the features are numeric type and only Sex feature is categorical so we have to \n",
    "handle categorical features convert into numeric feature\n",
    "There are different Method to handle categorical data\n",
    "> df.replace() \n",
    "> pd.get_dummies()\n",
    "> OneHotEncoder()\n",
    "> OrdinalEncoder()\n",
    "> LabelEncoder()\n",
    "\n",
    "### TRANSFORMATION \n",
    "Handling Skewness\n",
    "Using Mathematical Transformation\n",
    "> Log\n",
    "> Square Root\n",
    "> Reciprocal\n",
    "> Cube Root\n",
    "> Hue Johnson\n",
    "> Box-Cox\n",
    "\n",
    "\n",
    "### OUTLIERS\n",
    "If Features having Outlierwe have to detect and handle outliers\n",
    "> IQR\n",
    "> Z-Score\n",
    "> Boxplot()\n",
    "> Percentile Method"
   ]
  },
  {
   "cell_type": "code",
   "execution_count": null,
   "metadata": {},
   "outputs": [],
   "source": []
  },
  {
   "cell_type": "markdown",
   "metadata": {},
   "source": [
    "### Target Feature"
   ]
  },
  {
   "cell_type": "raw",
   "metadata": {
    "execution": {
     "iopub.execute_input": "2023-12-24T09:52:54.713522Z",
     "iopub.status.busy": "2023-12-24T09:52:54.713174Z",
     "iopub.status.idle": "2023-12-24T09:52:54.721058Z",
     "shell.execute_reply": "2023-12-24T09:52:54.719710Z",
     "shell.execute_reply.started": "2023-12-24T09:52:54.713490Z"
    }
   },
   "source": [
    "Target Feature is Numerical so our problem is Regression Type Having Continous Value Which Age. So we use regression type evaluation metrics such as\n",
    "> MAE\n",
    "> MSE\n",
    "> RMSE\n",
    "> R2_Score"
   ]
  },
  {
   "cell_type": "markdown",
   "metadata": {},
   "source": [
    "## Data Analysis:EDA"
   ]
  },
  {
   "cell_type": "code",
   "execution_count": null,
   "metadata": {
    "execution": {
     "iopub.execute_input": "2023-12-24T09:54:15.075914Z",
     "iopub.status.busy": "2023-12-24T09:54:15.075127Z",
     "iopub.status.idle": "2023-12-24T09:54:15.093644Z",
     "shell.execute_reply": "2023-12-24T09:54:15.092937Z",
     "shell.execute_reply.started": "2023-12-24T09:54:15.075861Z"
    }
   },
   "outputs": [],
   "source": [
    "df.info()"
   ]
  },
  {
   "cell_type": "code",
   "execution_count": null,
   "metadata": {
    "execution": {
     "iopub.execute_input": "2023-12-24T09:54:15.390760Z",
     "iopub.status.busy": "2023-12-24T09:54:15.390074Z",
     "iopub.status.idle": "2023-12-24T09:54:15.395917Z",
     "shell.execute_reply": "2023-12-24T09:54:15.395310Z",
     "shell.execute_reply.started": "2023-12-24T09:54:15.390732Z"
    }
   },
   "outputs": [],
   "source": [
    "df.columns = ['Sex', 'Length', 'Diameter', 'Height', 'Whole_weight', 'Shucked_weight',\n",
    "       'Viscera_weight', 'Shell_weight', 'Rings']\n",
    "df.columns"
   ]
  },
  {
   "cell_type": "markdown",
   "metadata": {},
   "source": [
    "## Univariate Analysis"
   ]
  },
  {
   "cell_type": "raw",
   "metadata": {},
   "source": [
    "In Univariate Analysis we check each columns one by one"
   ]
  },
  {
   "cell_type": "markdown",
   "metadata": {},
   "source": [
    "### Sex"
   ]
  },
  {
   "cell_type": "code",
   "execution_count": null,
   "metadata": {
    "execution": {
     "iopub.execute_input": "2023-12-24T09:54:24.982033Z",
     "iopub.status.busy": "2023-12-24T09:54:24.981662Z",
     "iopub.status.idle": "2023-12-24T09:54:24.988426Z",
     "shell.execute_reply": "2023-12-24T09:54:24.987482Z",
     "shell.execute_reply.started": "2023-12-24T09:54:24.982003Z"
    }
   },
   "outputs": [],
   "source": [
    "df['Sex'].unique()   # Male, Female, Infant"
   ]
  },
  {
   "cell_type": "code",
   "execution_count": null,
   "metadata": {
    "execution": {
     "iopub.execute_input": "2023-12-24T09:54:25.276535Z",
     "iopub.status.busy": "2023-12-24T09:54:25.276187Z",
     "iopub.status.idle": "2023-12-24T09:54:25.283500Z",
     "shell.execute_reply": "2023-12-24T09:54:25.282517Z",
     "shell.execute_reply.started": "2023-12-24T09:54:25.276506Z"
    }
   },
   "outputs": [],
   "source": [
    "df['Sex'].value_counts()"
   ]
  },
  {
   "cell_type": "code",
   "execution_count": null,
   "metadata": {
    "execution": {
     "iopub.execute_input": "2023-12-24T09:54:26.747934Z",
     "iopub.status.busy": "2023-12-24T09:54:26.747564Z",
     "iopub.status.idle": "2023-12-24T09:54:26.917108Z",
     "shell.execute_reply": "2023-12-24T09:54:26.916195Z",
     "shell.execute_reply.started": "2023-12-24T09:54:26.747903Z"
    }
   },
   "outputs": [],
   "source": [
    "sns.countplot(x=df['Sex'])\n",
    "plt.title(\"Sex Distributions\",fontsize=14)\n",
    "plt.xlabel('Sex',fontsize=12)\n",
    "plt.ylabel('Number Of Counts',fontsize=12)\n",
    "plt.show()"
   ]
  },
  {
   "cell_type": "code",
   "execution_count": null,
   "metadata": {
    "execution": {
     "iopub.execute_input": "2023-12-24T09:54:27.398107Z",
     "iopub.status.busy": "2023-12-24T09:54:27.397250Z",
     "iopub.status.idle": "2023-12-24T09:54:27.507555Z",
     "shell.execute_reply": "2023-12-24T09:54:27.506508Z",
     "shell.execute_reply.started": "2023-12-24T09:54:27.398076Z"
    }
   },
   "outputs": [],
   "source": [
    "# Pie Plot\n",
    "df['Sex'].value_counts().plot(kind='pie',autopct='%.1f%%')\n",
    "plt.legend()\n",
    "plt.show()"
   ]
  },
  {
   "cell_type": "markdown",
   "metadata": {
    "execution": {
     "iopub.execute_input": "2023-12-24T07:48:57.807874Z",
     "iopub.status.busy": "2023-12-24T07:48:57.807244Z",
     "iopub.status.idle": "2023-12-24T07:48:58.150650Z",
     "shell.execute_reply": "2023-12-24T07:48:58.148863Z",
     "shell.execute_reply.started": "2023-12-24T07:48:57.807847Z"
    }
   },
   "source": [
    "## Statistics of Numerical Features"
   ]
  },
  {
   "cell_type": "code",
   "execution_count": null,
   "metadata": {
    "execution": {
     "iopub.execute_input": "2023-12-24T09:54:27.997882Z",
     "iopub.status.busy": "2023-12-24T09:54:27.997489Z",
     "iopub.status.idle": "2023-12-24T09:54:28.031225Z",
     "shell.execute_reply": "2023-12-24T09:54:28.030249Z",
     "shell.execute_reply.started": "2023-12-24T09:54:27.997843Z"
    }
   },
   "outputs": [],
   "source": [
    "d = pd.DataFrame(columns=['Minimum','Maximum','Mean','Median','Mode','Standard_Deviation','Variance','25%_Quantile','75%_Quantile'],\n",
    "                index=['Length'])\n",
    "\n",
    "\n",
    "for col in df.columns:\n",
    "    if df[col].dtype==object:\n",
    "        pass\n",
    "    else:\n",
    "        min1 = df[col].min()\n",
    "        max1 = df[col].max()\n",
    "        mean = df[col].mean()\n",
    "        median = df[col].mean()\n",
    "        mode = df[col].mean()\n",
    "        std = df[col].std()\n",
    "        var = df[col].var()\n",
    "        q_25 = df[col].quantile(0.25)\n",
    "        q_75 = df[col].quantile(0.75)\n",
    "        d.loc[col] = [min1,max1,mean,median, mode, std, var, q_25,q_75]"
   ]
  },
  {
   "cell_type": "code",
   "execution_count": null,
   "metadata": {
    "execution": {
     "iopub.execute_input": "2023-12-24T09:54:28.357662Z",
     "iopub.status.busy": "2023-12-24T09:54:28.357261Z",
     "iopub.status.idle": "2023-12-24T09:54:28.370381Z",
     "shell.execute_reply": "2023-12-24T09:54:28.369539Z",
     "shell.execute_reply.started": "2023-12-24T09:54:28.357633Z"
    }
   },
   "outputs": [],
   "source": [
    "d"
   ]
  },
  {
   "cell_type": "markdown",
   "metadata": {},
   "source": [
    "### Length"
   ]
  },
  {
   "cell_type": "code",
   "execution_count": null,
   "metadata": {
    "execution": {
     "iopub.execute_input": "2023-12-24T09:54:28.805982Z",
     "iopub.status.busy": "2023-12-24T09:54:28.805425Z",
     "iopub.status.idle": "2023-12-24T09:54:28.814221Z",
     "shell.execute_reply": "2023-12-24T09:54:28.813318Z",
     "shell.execute_reply.started": "2023-12-24T09:54:28.805953Z"
    }
   },
   "outputs": [],
   "source": [
    "df['Length'].describe()"
   ]
  },
  {
   "cell_type": "code",
   "execution_count": null,
   "metadata": {
    "execution": {
     "iopub.execute_input": "2023-12-24T09:54:29.104568Z",
     "iopub.status.busy": "2023-12-24T09:54:29.104026Z",
     "iopub.status.idle": "2023-12-24T09:54:29.516958Z",
     "shell.execute_reply": "2023-12-24T09:54:29.515755Z",
     "shell.execute_reply.started": "2023-12-24T09:54:29.104539Z"
    }
   },
   "outputs": [],
   "source": [
    "plt.figure(figsize=(12,5))\n",
    "plt.subplot(1,2,1)\n",
    "sns.kdeplot(df['Length'])    # Longest shell measurement\n",
    "plt.title(\"Kde Plot Length\",fontsize=14)\n",
    "plt.xlabel('Length',fontsize=12)\n",
    "plt.ylabel('Number Of Counts',fontsize=12)\n",
    "plt.subplot(1,2,2)\n",
    "sm.probplot(df['Length'],dist='norm',plot=plt)\n",
    "plt.show()"
   ]
  },
  {
   "cell_type": "code",
   "execution_count": null,
   "metadata": {
    "execution": {
     "iopub.execute_input": "2023-12-24T10:12:22.752977Z",
     "iopub.status.busy": "2023-12-24T10:12:22.752625Z",
     "iopub.status.idle": "2023-12-24T10:12:22.984743Z",
     "shell.execute_reply": "2023-12-24T10:12:22.983727Z",
     "shell.execute_reply.started": "2023-12-24T10:12:22.752950Z"
    }
   },
   "outputs": [],
   "source": [
    "sns.histplot(x=df['Length'],color='Violet')\n",
    "plt.title(\"Histogram of Length\")\n",
    "plt.show()"
   ]
  },
  {
   "cell_type": "code",
   "execution_count": null,
   "metadata": {
    "execution": {
     "iopub.execute_input": "2023-12-24T10:05:17.622658Z",
     "iopub.status.busy": "2023-12-24T10:05:17.622303Z",
     "iopub.status.idle": "2023-12-24T10:05:17.826891Z",
     "shell.execute_reply": "2023-12-24T10:05:17.825950Z",
     "shell.execute_reply.started": "2023-12-24T10:05:17.622632Z"
    }
   },
   "outputs": [],
   "source": [
    "plt.hist(df['Length'],color='Violet')\n",
    "plt.title(\"Histograms of Length Distributions\")\n",
    "plt.show()"
   ]
  },
  {
   "cell_type": "markdown",
   "metadata": {},
   "source": [
    "### Diameter"
   ]
  },
  {
   "cell_type": "code",
   "execution_count": null,
   "metadata": {
    "execution": {
     "iopub.execute_input": "2023-12-24T09:54:30.025380Z",
     "iopub.status.busy": "2023-12-24T09:54:30.025035Z",
     "iopub.status.idle": "2023-12-24T09:54:30.418160Z",
     "shell.execute_reply": "2023-12-24T09:54:30.417050Z",
     "shell.execute_reply.started": "2023-12-24T09:54:30.025352Z"
    }
   },
   "outputs": [],
   "source": [
    "plt.figure(figsize=(12,5))\n",
    "plt.subplot(1,2,1)\n",
    "sns.kdeplot(df['Diameter'])    \n",
    "plt.title(\"Kde Plot Diameter\",fontsize=14)\n",
    "plt.xlabel('Diameter',fontsize=12)\n",
    "plt.ylabel('Number Of Counts',fontsize=12)\n",
    "plt.subplot(1,2,2)\n",
    "sm.probplot(df['Diameter'],dist='norm',plot=plt)\n",
    "plt.show()"
   ]
  },
  {
   "cell_type": "code",
   "execution_count": null,
   "metadata": {
    "execution": {
     "iopub.execute_input": "2023-12-24T09:54:30.886690Z",
     "iopub.status.busy": "2023-12-24T09:54:30.886339Z",
     "iopub.status.idle": "2023-12-24T09:54:31.132393Z",
     "shell.execute_reply": "2023-12-24T09:54:31.131272Z",
     "shell.execute_reply.started": "2023-12-24T09:54:30.886657Z"
    }
   },
   "outputs": [],
   "source": [
    "sns.histplot(x=df['Diameter'],color='Purple')\n",
    "plt.title(\"Histogram of Diameter\")\n",
    "plt.show()"
   ]
  },
  {
   "cell_type": "code",
   "execution_count": null,
   "metadata": {
    "execution": {
     "iopub.execute_input": "2023-12-24T10:06:05.825578Z",
     "iopub.status.busy": "2023-12-24T10:06:05.825262Z",
     "iopub.status.idle": "2023-12-24T10:06:06.015537Z",
     "shell.execute_reply": "2023-12-24T10:06:06.014568Z",
     "shell.execute_reply.started": "2023-12-24T10:06:05.825552Z"
    }
   },
   "outputs": [],
   "source": [
    "plt.hist(df['Diameter'],color='Purple')\n",
    "plt.title(\"Histograms of Diameter Distributions\")\n",
    "plt.show()"
   ]
  },
  {
   "cell_type": "markdown",
   "metadata": {},
   "source": [
    "### Height"
   ]
  },
  {
   "cell_type": "code",
   "execution_count": null,
   "metadata": {
    "execution": {
     "iopub.execute_input": "2023-12-24T09:54:36.158209Z",
     "iopub.status.busy": "2023-12-24T09:54:36.157242Z",
     "iopub.status.idle": "2023-12-24T09:54:36.555618Z",
     "shell.execute_reply": "2023-12-24T09:54:36.554586Z",
     "shell.execute_reply.started": "2023-12-24T09:54:36.158184Z"
    }
   },
   "outputs": [],
   "source": [
    "plt.figure(figsize=(12,5))\n",
    "plt.subplot(1,2,1)\n",
    "sns.kdeplot(df['Height'])    \n",
    "plt.title(\"Kde Plot Height\",fontsize=14)\n",
    "plt.xlabel('Height',fontsize=12)\n",
    "plt.ylabel('Number Of Counts',fontsize=12)\n",
    "plt.subplot(1,2,2)\n",
    "sm.probplot(df['Height'],dist='norm',plot=plt)\n",
    "plt.show()"
   ]
  },
  {
   "cell_type": "code",
   "execution_count": null,
   "metadata": {
    "execution": {
     "iopub.execute_input": "2023-12-24T09:54:40.323527Z",
     "iopub.status.busy": "2023-12-24T09:54:40.323186Z",
     "iopub.status.idle": "2023-12-24T09:54:40.721435Z",
     "shell.execute_reply": "2023-12-24T09:54:40.720429Z",
     "shell.execute_reply.started": "2023-12-24T09:54:40.323501Z"
    }
   },
   "outputs": [],
   "source": [
    "sns.histplot(x=df['Height'],color='Cyan')\n",
    "plt.title(\"Histogram of Height\")\n",
    "plt.show()"
   ]
  },
  {
   "cell_type": "code",
   "execution_count": null,
   "metadata": {
    "execution": {
     "iopub.execute_input": "2023-12-24T10:06:37.099759Z",
     "iopub.status.busy": "2023-12-24T10:06:37.099381Z",
     "iopub.status.idle": "2023-12-24T10:06:37.274680Z",
     "shell.execute_reply": "2023-12-24T10:06:37.273812Z",
     "shell.execute_reply.started": "2023-12-24T10:06:37.099726Z"
    }
   },
   "outputs": [],
   "source": [
    "plt.hist(df['Height'],color='Cyan')\n",
    "plt.title(\"Histograms of Height Distributions\")\n",
    "plt.show()"
   ]
  },
  {
   "cell_type": "markdown",
   "metadata": {},
   "source": [
    "### Whole_weight"
   ]
  },
  {
   "cell_type": "code",
   "execution_count": null,
   "metadata": {
    "execution": {
     "iopub.execute_input": "2023-12-24T09:54:41.686063Z",
     "iopub.status.busy": "2023-12-24T09:54:41.685709Z",
     "iopub.status.idle": "2023-12-24T09:54:42.421532Z",
     "shell.execute_reply": "2023-12-24T09:54:42.420356Z",
     "shell.execute_reply.started": "2023-12-24T09:54:41.686034Z"
    }
   },
   "outputs": [],
   "source": [
    "plt.figure(figsize=(12,5))\n",
    "plt.subplot(1,2,1)\n",
    "sns.kdeplot(df['Whole_weight'])    \n",
    "plt.title(\"Kde Plot Whole_weight\",fontsize=14)\n",
    "plt.xlabel('Whole_weight',fontsize=12)\n",
    "plt.ylabel('Number Of Counts',fontsize=12)\n",
    "plt.subplot(1,2,2)\n",
    "sm.probplot(df['Whole_weight'],dist='norm',plot=plt)\n",
    "plt.show()"
   ]
  },
  {
   "cell_type": "code",
   "execution_count": null,
   "metadata": {
    "execution": {
     "iopub.execute_input": "2023-12-24T09:54:52.236516Z",
     "iopub.status.busy": "2023-12-24T09:54:52.236199Z",
     "iopub.status.idle": "2023-12-24T09:54:52.477361Z",
     "shell.execute_reply": "2023-12-24T09:54:52.476509Z",
     "shell.execute_reply.started": "2023-12-24T09:54:52.236489Z"
    }
   },
   "outputs": [],
   "source": [
    "sns.histplot(x=df['Whole_weight'],color='Orange')\n",
    "plt.title(\"Histogram of Whole_weight\")\n",
    "plt.show()"
   ]
  },
  {
   "cell_type": "code",
   "execution_count": null,
   "metadata": {
    "execution": {
     "iopub.execute_input": "2023-12-24T10:07:31.669666Z",
     "iopub.status.busy": "2023-12-24T10:07:31.669350Z",
     "iopub.status.idle": "2023-12-24T10:07:31.850713Z",
     "shell.execute_reply": "2023-12-24T10:07:31.849799Z",
     "shell.execute_reply.started": "2023-12-24T10:07:31.669641Z"
    }
   },
   "outputs": [],
   "source": [
    "plt.hist(df['Whole_weight'],color='Orange')\n",
    "plt.title(\"Histograms of Whole_weight Distributions\")\n",
    "plt.show()"
   ]
  },
  {
   "cell_type": "markdown",
   "metadata": {},
   "source": [
    "### Shucked_weight"
   ]
  },
  {
   "cell_type": "code",
   "execution_count": null,
   "metadata": {
    "execution": {
     "iopub.execute_input": "2023-12-24T09:54:54.242721Z",
     "iopub.status.busy": "2023-12-24T09:54:54.242375Z",
     "iopub.status.idle": "2023-12-24T09:54:54.660371Z",
     "shell.execute_reply": "2023-12-24T09:54:54.659507Z",
     "shell.execute_reply.started": "2023-12-24T09:54:54.242695Z"
    }
   },
   "outputs": [],
   "source": [
    "plt.figure(figsize=(12,5))\n",
    "plt.subplot(1,2,1)\n",
    "sns.kdeplot(df['Shucked_weight'])    \n",
    "plt.title(\"Kde Plot Shucked_weight\",fontsize=14)\n",
    "plt.xlabel('Shucked_weight',fontsize=12)\n",
    "plt.ylabel('Number Of Counts',fontsize=12)\n",
    "plt.subplot(1,2,2)\n",
    "sm.probplot(df['Shucked_weight'],dist='norm',plot=plt)\n",
    "plt.show()"
   ]
  },
  {
   "cell_type": "code",
   "execution_count": null,
   "metadata": {
    "execution": {
     "iopub.execute_input": "2023-12-24T09:54:55.078293Z",
     "iopub.status.busy": "2023-12-24T09:54:55.077943Z",
     "iopub.status.idle": "2023-12-24T09:54:55.329038Z",
     "shell.execute_reply": "2023-12-24T09:54:55.328029Z",
     "shell.execute_reply.started": "2023-12-24T09:54:55.078266Z"
    }
   },
   "outputs": [],
   "source": [
    "sns.histplot(x=df['Shucked_weight'],color='Red')\n",
    "plt.title(\"Histogram of Shucked_weight\")\n",
    "plt.show()"
   ]
  },
  {
   "cell_type": "code",
   "execution_count": null,
   "metadata": {
    "execution": {
     "iopub.execute_input": "2023-12-24T10:08:50.061359Z",
     "iopub.status.busy": "2023-12-24T10:08:50.061021Z",
     "iopub.status.idle": "2023-12-24T10:08:50.771152Z",
     "shell.execute_reply": "2023-12-24T10:08:50.770258Z",
     "shell.execute_reply.started": "2023-12-24T10:08:50.061332Z"
    }
   },
   "outputs": [],
   "source": [
    "plt.hist(df['Shucked_weight'],color='Red')\n",
    "plt.title(\"Histograms of Shucked_weight Distributions\")\n",
    "plt.show()"
   ]
  },
  {
   "cell_type": "markdown",
   "metadata": {},
   "source": [
    "### Viscera_weight"
   ]
  },
  {
   "cell_type": "code",
   "execution_count": null,
   "metadata": {
    "execution": {
     "iopub.execute_input": "2023-12-24T09:54:59.305310Z",
     "iopub.status.busy": "2023-12-24T09:54:59.304999Z",
     "iopub.status.idle": "2023-12-24T09:54:59.681639Z",
     "shell.execute_reply": "2023-12-24T09:54:59.680895Z",
     "shell.execute_reply.started": "2023-12-24T09:54:59.305286Z"
    }
   },
   "outputs": [],
   "source": [
    "plt.figure(figsize=(12,5))\n",
    "plt.subplot(1,2,1)\n",
    "sns.kdeplot(df['Viscera_weight'])    \n",
    "plt.title(\"Kde Plot Viscera_weight\",fontsize=14)\n",
    "plt.xlabel('Viscera_weight',fontsize=12)\n",
    "plt.ylabel('Number Of Counts',fontsize=12)\n",
    "plt.subplot(1,2,2)\n",
    "sm.probplot(df['Viscera_weight'],dist='norm',plot=plt)\n",
    "plt.show()"
   ]
  },
  {
   "cell_type": "code",
   "execution_count": null,
   "metadata": {
    "execution": {
     "iopub.execute_input": "2023-12-24T09:54:59.684173Z",
     "iopub.status.busy": "2023-12-24T09:54:59.682882Z",
     "iopub.status.idle": "2023-12-24T09:54:59.936698Z",
     "shell.execute_reply": "2023-12-24T09:54:59.935427Z",
     "shell.execute_reply.started": "2023-12-24T09:54:59.684143Z"
    }
   },
   "outputs": [],
   "source": [
    "sns.histplot(x=df['Viscera_weight'],color='Green')\n",
    "plt.title(\"Histogram of Viscera_weight\")\n",
    "plt.show()"
   ]
  },
  {
   "cell_type": "code",
   "execution_count": null,
   "metadata": {
    "execution": {
     "iopub.execute_input": "2023-12-24T10:11:37.404888Z",
     "iopub.status.busy": "2023-12-24T10:11:37.404543Z",
     "iopub.status.idle": "2023-12-24T10:11:37.574743Z",
     "shell.execute_reply": "2023-12-24T10:11:37.573765Z",
     "shell.execute_reply.started": "2023-12-24T10:11:37.404860Z"
    }
   },
   "outputs": [],
   "source": [
    "plt.hist(df['Viscera_weight'],color='Green')\n",
    "plt.title(\"Histograms of Viscera_weight Distributions\")\n",
    "plt.show()"
   ]
  },
  {
   "cell_type": "markdown",
   "metadata": {},
   "source": [
    "### Shell_weight"
   ]
  },
  {
   "cell_type": "code",
   "execution_count": null,
   "metadata": {
    "execution": {
     "iopub.execute_input": "2023-12-24T09:55:00.086464Z",
     "iopub.status.busy": "2023-12-24T09:55:00.086139Z",
     "iopub.status.idle": "2023-12-24T09:55:00.470933Z",
     "shell.execute_reply": "2023-12-24T09:55:00.469999Z",
     "shell.execute_reply.started": "2023-12-24T09:55:00.086432Z"
    }
   },
   "outputs": [],
   "source": [
    "plt.figure(figsize=(12,5))\n",
    "plt.subplot(1,2,1)\n",
    "sns.kdeplot(df['Shell_weight'])    \n",
    "plt.title(\"Kde Plot Shell_weight\",fontsize=14)\n",
    "plt.xlabel('Shell_weight',fontsize=12)\n",
    "plt.ylabel('Number Of Counts',fontsize=12)\n",
    "plt.subplot(1,2,2)\n",
    "sm.probplot(df['Shell_weight'],dist='norm',plot=plt)\n",
    "plt.show()"
   ]
  },
  {
   "cell_type": "code",
   "execution_count": null,
   "metadata": {
    "execution": {
     "iopub.execute_input": "2023-12-24T09:55:00.472660Z",
     "iopub.status.busy": "2023-12-24T09:55:00.472400Z",
     "iopub.status.idle": "2023-12-24T09:55:00.723782Z",
     "shell.execute_reply": "2023-12-24T09:55:00.722971Z",
     "shell.execute_reply.started": "2023-12-24T09:55:00.472638Z"
    }
   },
   "outputs": [],
   "source": [
    "sns.histplot(x=df['Shell_weight'],color='Yellow')\n",
    "plt.title(\"Histogram of Shell_weight\")\n",
    "plt.show()"
   ]
  },
  {
   "cell_type": "code",
   "execution_count": null,
   "metadata": {
    "execution": {
     "iopub.execute_input": "2023-12-24T10:10:52.394796Z",
     "iopub.status.busy": "2023-12-24T10:10:52.394476Z",
     "iopub.status.idle": "2023-12-24T10:10:52.566320Z",
     "shell.execute_reply": "2023-12-24T10:10:52.565284Z",
     "shell.execute_reply.started": "2023-12-24T10:10:52.394770Z"
    }
   },
   "outputs": [],
   "source": [
    "plt.hist(df['Shell_weight'],color='Yellow')\n",
    "plt.title(\"Histograms of Shell_weight Distributions\")\n",
    "plt.show()"
   ]
  },
  {
   "cell_type": "markdown",
   "metadata": {},
   "source": [
    "### Target Feature Rings"
   ]
  },
  {
   "cell_type": "code",
   "execution_count": null,
   "metadata": {
    "execution": {
     "iopub.execute_input": "2023-12-24T09:55:00.792484Z",
     "iopub.status.busy": "2023-12-24T09:55:00.792143Z",
     "iopub.status.idle": "2023-12-24T09:55:01.246252Z",
     "shell.execute_reply": "2023-12-24T09:55:01.243196Z",
     "shell.execute_reply.started": "2023-12-24T09:55:00.792450Z"
    }
   },
   "outputs": [],
   "source": [
    "plt.figure(figsize=(12,5))\n",
    "plt.subplot(1,2,1)\n",
    "sns.kdeplot(df['Rings'])    \n",
    "plt.title(\"Kde Plot Rings\",fontsize=14)\n",
    "plt.xlabel('Rings',fontsize=12)\n",
    "plt.ylabel('Number Of Counts',fontsize=12)\n",
    "plt.subplot(1,2,2)\n",
    "sm.probplot(df['Rings'],dist='norm',plot=plt)\n",
    "plt.show()"
   ]
  },
  {
   "cell_type": "code",
   "execution_count": null,
   "metadata": {
    "execution": {
     "iopub.execute_input": "2023-12-24T09:55:01.248460Z",
     "iopub.status.busy": "2023-12-24T09:55:01.248068Z",
     "iopub.status.idle": "2023-12-24T09:55:01.557429Z",
     "shell.execute_reply": "2023-12-24T09:55:01.556579Z",
     "shell.execute_reply.started": "2023-12-24T09:55:01.248422Z"
    }
   },
   "outputs": [],
   "source": [
    "sns.histplot(x=df['Rings'],color='Black')\n",
    "plt.title(\"Histogram of Rings\")\n",
    "plt.show()"
   ]
  },
  {
   "cell_type": "code",
   "execution_count": null,
   "metadata": {
    "execution": {
     "iopub.execute_input": "2023-12-24T10:13:51.543579Z",
     "iopub.status.busy": "2023-12-24T10:13:51.543230Z",
     "iopub.status.idle": "2023-12-24T10:13:51.727763Z",
     "shell.execute_reply": "2023-12-24T10:13:51.726799Z",
     "shell.execute_reply.started": "2023-12-24T10:13:51.543549Z"
    }
   },
   "outputs": [],
   "source": [
    "plt.hist(df['Rings'],color='Black')\n",
    "plt.title(\"Histograms of Rings Distributions\")\n",
    "plt.show()"
   ]
  },
  {
   "cell_type": "code",
   "execution_count": null,
   "metadata": {
    "execution": {
     "iopub.execute_input": "2023-12-24T09:55:01.587976Z",
     "iopub.status.busy": "2023-12-24T09:55:01.587131Z",
     "iopub.status.idle": "2023-12-24T09:55:01.597603Z",
     "shell.execute_reply": "2023-12-24T09:55:01.596233Z",
     "shell.execute_reply.started": "2023-12-24T09:55:01.587942Z"
    }
   },
   "outputs": [],
   "source": [
    "df['Rings'].describe()"
   ]
  },
  {
   "cell_type": "code",
   "execution_count": null,
   "metadata": {
    "execution": {
     "iopub.execute_input": "2023-12-24T09:55:01.636138Z",
     "iopub.status.busy": "2023-12-24T09:55:01.635798Z",
     "iopub.status.idle": "2023-12-24T09:55:01.645658Z",
     "shell.execute_reply": "2023-12-24T09:55:01.644856Z",
     "shell.execute_reply.started": "2023-12-24T09:55:01.636112Z"
    }
   },
   "outputs": [],
   "source": [
    "df['Rings'].unique()"
   ]
  },
  {
   "cell_type": "code",
   "execution_count": null,
   "metadata": {},
   "outputs": [],
   "source": []
  },
  {
   "cell_type": "markdown",
   "metadata": {},
   "source": [
    "## Bivariate Analysis"
   ]
  },
  {
   "cell_type": "code",
   "execution_count": null,
   "metadata": {
    "execution": {
     "iopub.execute_input": "2023-12-24T09:55:02.232108Z",
     "iopub.status.busy": "2023-12-24T09:55:02.230995Z",
     "iopub.status.idle": "2023-12-24T09:55:02.458967Z",
     "shell.execute_reply": "2023-12-24T09:55:02.457868Z",
     "shell.execute_reply.started": "2023-12-24T09:55:02.232076Z"
    }
   },
   "outputs": [],
   "source": [
    "sns.scatterplot(x=df['Length'],y=df['Rings'])\n",
    "plt.title(\"Length VS Rings Relationship\",fontsize=12)\n",
    "plt.xlabel('Length',fontsize=12)\n",
    "plt.ylabel('Rings',fontsize=12)\n",
    "plt.show()"
   ]
  },
  {
   "cell_type": "code",
   "execution_count": null,
   "metadata": {
    "execution": {
     "iopub.execute_input": "2023-12-24T10:17:25.437777Z",
     "iopub.status.busy": "2023-12-24T10:17:25.437414Z",
     "iopub.status.idle": "2023-12-24T10:17:25.651685Z",
     "shell.execute_reply": "2023-12-24T10:17:25.650743Z",
     "shell.execute_reply.started": "2023-12-24T10:17:25.437748Z"
    }
   },
   "outputs": [],
   "source": [
    "sns.scatterplot(x=df['Diameter'],y=df['Rings'],color='Cyan')\n",
    "plt.title(\"Diameter VS Rings Relationship\",fontsize=12)\n",
    "plt.xlabel('Diameter',fontsize=12)\n",
    "plt.ylabel('Rings',fontsize=12)\n",
    "plt.show()"
   ]
  },
  {
   "cell_type": "code",
   "execution_count": null,
   "metadata": {
    "execution": {
     "iopub.execute_input": "2023-12-24T10:16:03.386152Z",
     "iopub.status.busy": "2023-12-24T10:16:03.385818Z",
     "iopub.status.idle": "2023-12-24T10:16:03.577524Z",
     "shell.execute_reply": "2023-12-24T10:16:03.576511Z",
     "shell.execute_reply.started": "2023-12-24T10:16:03.386124Z"
    }
   },
   "outputs": [],
   "source": [
    "sns.scatterplot(x=df['Height'],y=df['Rings'],color='Green')\n",
    "plt.title(\"Height VS Rings Relationship\",fontsize=12)\n",
    "plt.xlabel('Height',fontsize=12)\n",
    "plt.ylabel('Rings',fontsize=12)\n",
    "plt.show()"
   ]
  },
  {
   "cell_type": "code",
   "execution_count": null,
   "metadata": {
    "execution": {
     "iopub.execute_input": "2023-12-24T10:16:18.038365Z",
     "iopub.status.busy": "2023-12-24T10:16:18.038002Z",
     "iopub.status.idle": "2023-12-24T10:16:18.228343Z",
     "shell.execute_reply": "2023-12-24T10:16:18.227270Z",
     "shell.execute_reply.started": "2023-12-24T10:16:18.038338Z"
    }
   },
   "outputs": [],
   "source": [
    "sns.scatterplot(x=df['Whole_weight'],y=df['Rings'],color='Red')\n",
    "plt.title(\"Whole_weight VS Rings Relationship\",fontsize=12)\n",
    "plt.xlabel('Whole_weight',fontsize=12)\n",
    "plt.ylabel('Rings',fontsize=12)\n",
    "plt.show()"
   ]
  },
  {
   "cell_type": "code",
   "execution_count": null,
   "metadata": {
    "execution": {
     "iopub.execute_input": "2023-12-24T10:16:38.444129Z",
     "iopub.status.busy": "2023-12-24T10:16:38.443740Z",
     "iopub.status.idle": "2023-12-24T10:16:38.651576Z",
     "shell.execute_reply": "2023-12-24T10:16:38.650491Z",
     "shell.execute_reply.started": "2023-12-24T10:16:38.444075Z"
    }
   },
   "outputs": [],
   "source": [
    "sns.scatterplot(x=df['Shucked_weight'],y=df['Rings'],color='Pink')\n",
    "plt.title(\"Shucked_weight VS Rings Relationship\",fontsize=12)\n",
    "plt.xlabel('Shucked_weight',fontsize=12)\n",
    "plt.ylabel('Rings',fontsize=12)\n",
    "plt.show()"
   ]
  },
  {
   "cell_type": "code",
   "execution_count": null,
   "metadata": {
    "execution": {
     "iopub.execute_input": "2023-12-24T10:16:49.550036Z",
     "iopub.status.busy": "2023-12-24T10:16:49.549682Z",
     "iopub.status.idle": "2023-12-24T10:16:49.760799Z",
     "shell.execute_reply": "2023-12-24T10:16:49.759720Z",
     "shell.execute_reply.started": "2023-12-24T10:16:49.550009Z"
    }
   },
   "outputs": [],
   "source": [
    "sns.scatterplot(x=df['Viscera_weight'],y=df['Rings'],color='Blue')\n",
    "plt.title(\"Viscera_weight VS Rings Relationship\",fontsize=12)\n",
    "plt.xlabel('Viscera_weight',fontsize=12)\n",
    "plt.ylabel('Rings',fontsize=12)\n",
    "plt.show()"
   ]
  },
  {
   "cell_type": "code",
   "execution_count": null,
   "metadata": {
    "execution": {
     "iopub.execute_input": "2023-12-24T10:17:02.323743Z",
     "iopub.status.busy": "2023-12-24T10:17:02.323395Z",
     "iopub.status.idle": "2023-12-24T10:17:02.544474Z",
     "shell.execute_reply": "2023-12-24T10:17:02.543513Z",
     "shell.execute_reply.started": "2023-12-24T10:17:02.323716Z"
    }
   },
   "outputs": [],
   "source": [
    "sns.scatterplot(x=df['Shell_weight'],y=df['Rings'],color='Yellow')\n",
    "plt.title(\"Shell_weight VS Rings Relationship\",fontsize=12)\n",
    "plt.xlabel('Shell_weight',fontsize=12)\n",
    "plt.ylabel('Rings',fontsize=12)\n",
    "plt.show()"
   ]
  },
  {
   "cell_type": "markdown",
   "metadata": {},
   "source": [
    "## Handling Categorical Data"
   ]
  },
  {
   "cell_type": "code",
   "execution_count": null,
   "metadata": {
    "execution": {
     "iopub.execute_input": "2023-12-24T10:00:43.233643Z",
     "iopub.status.busy": "2023-12-24T10:00:43.233257Z",
     "iopub.status.idle": "2023-12-24T10:00:43.240064Z",
     "shell.execute_reply": "2023-12-24T10:00:43.238993Z",
     "shell.execute_reply.started": "2023-12-24T10:00:43.233608Z"
    }
   },
   "outputs": [],
   "source": [
    "df['Sex'].unique()"
   ]
  },
  {
   "cell_type": "code",
   "execution_count": null,
   "metadata": {
    "execution": {
     "iopub.execute_input": "2023-12-24T10:01:50.753644Z",
     "iopub.status.busy": "2023-12-24T10:01:50.753266Z",
     "iopub.status.idle": "2023-12-24T10:01:50.762390Z",
     "shell.execute_reply": "2023-12-24T10:01:50.761435Z",
     "shell.execute_reply.started": "2023-12-24T10:01:50.753615Z"
    }
   },
   "outputs": [],
   "source": [
    "df['Sex'] = df['Sex'].replace({'F':0,'M':1,'I':2})"
   ]
  },
  {
   "cell_type": "code",
   "execution_count": null,
   "metadata": {
    "execution": {
     "iopub.execute_input": "2023-12-24T10:01:57.584390Z",
     "iopub.status.busy": "2023-12-24T10:01:57.583927Z",
     "iopub.status.idle": "2023-12-24T10:01:57.592869Z",
     "shell.execute_reply": "2023-12-24T10:01:57.591670Z",
     "shell.execute_reply.started": "2023-12-24T10:01:57.584351Z"
    }
   },
   "outputs": [],
   "source": [
    "df['Sex'].unique()"
   ]
  },
  {
   "cell_type": "markdown",
   "metadata": {},
   "source": [
    "## Multivariate Analysis"
   ]
  },
  {
   "cell_type": "code",
   "execution_count": null,
   "metadata": {
    "execution": {
     "iopub.execute_input": "2023-12-24T10:02:29.863698Z",
     "iopub.status.busy": "2023-12-24T10:02:29.863343Z",
     "iopub.status.idle": "2023-12-24T10:02:29.877200Z",
     "shell.execute_reply": "2023-12-24T10:02:29.876260Z",
     "shell.execute_reply.started": "2023-12-24T10:02:29.863670Z"
    }
   },
   "outputs": [],
   "source": [
    "df.head()"
   ]
  },
  {
   "cell_type": "code",
   "execution_count": null,
   "metadata": {
    "execution": {
     "iopub.execute_input": "2023-12-24T10:02:56.067180Z",
     "iopub.status.busy": "2023-12-24T10:02:56.066782Z",
     "iopub.status.idle": "2023-12-24T10:02:56.083276Z",
     "shell.execute_reply": "2023-12-24T10:02:56.081893Z",
     "shell.execute_reply.started": "2023-12-24T10:02:56.067148Z"
    }
   },
   "outputs": [],
   "source": [
    "cor = df.corr()\n",
    "cor"
   ]
  },
  {
   "cell_type": "code",
   "execution_count": null,
   "metadata": {
    "execution": {
     "iopub.execute_input": "2023-12-24T10:18:23.188663Z",
     "iopub.status.busy": "2023-12-24T10:18:23.188348Z",
     "iopub.status.idle": "2023-12-24T10:18:23.623169Z",
     "shell.execute_reply": "2023-12-24T10:18:23.620813Z",
     "shell.execute_reply.started": "2023-12-24T10:18:23.188636Z"
    }
   },
   "outputs": [],
   "source": [
    "plt.figure(figsize=(10,10))\n",
    "sns.heatmap(cor, annot=True)\n",
    "plt.show()"
   ]
  },
  {
   "cell_type": "code",
   "execution_count": null,
   "metadata": {
    "execution": {
     "iopub.execute_input": "2023-12-24T10:20:22.037159Z",
     "iopub.status.busy": "2023-12-24T10:20:22.036801Z",
     "iopub.status.idle": "2023-12-24T10:20:46.180545Z",
     "shell.execute_reply": "2023-12-24T10:20:46.179234Z",
     "shell.execute_reply.started": "2023-12-24T10:20:22.037132Z"
    }
   },
   "outputs": [],
   "source": [
    "sns.pairplot(df);"
   ]
  },
  {
   "cell_type": "markdown",
   "metadata": {},
   "source": [
    "## Features Engineering"
   ]
  },
  {
   "cell_type": "code",
   "execution_count": null,
   "metadata": {
    "execution": {
     "iopub.execute_input": "2023-12-24T10:21:13.188628Z",
     "iopub.status.busy": "2023-12-24T10:21:13.188322Z",
     "iopub.status.idle": "2023-12-24T10:21:13.205262Z",
     "shell.execute_reply": "2023-12-24T10:21:13.203664Z",
     "shell.execute_reply.started": "2023-12-24T10:21:13.188602Z"
    }
   },
   "outputs": [],
   "source": [
    "df.head()"
   ]
  },
  {
   "cell_type": "markdown",
   "metadata": {},
   "source": [
    "## Checking Skewness"
   ]
  },
  {
   "cell_type": "code",
   "execution_count": null,
   "metadata": {
    "execution": {
     "iopub.execute_input": "2023-12-24T10:24:21.520147Z",
     "iopub.status.busy": "2023-12-24T10:24:21.519768Z",
     "iopub.status.idle": "2023-12-24T10:24:23.174438Z",
     "shell.execute_reply": "2023-12-24T10:24:23.173474Z",
     "shell.execute_reply.started": "2023-12-24T10:24:21.520118Z"
    }
   },
   "outputs": [],
   "source": [
    "plt.figure(figsize=(12,16))\n",
    "i=1\n",
    "for col in df.columns:\n",
    "    plt.subplot(4,3,i)\n",
    "    sns.kdeplot(df[col])\n",
    "    i+=1"
   ]
  },
  {
   "cell_type": "code",
   "execution_count": null,
   "metadata": {
    "execution": {
     "iopub.execute_input": "2023-12-24T10:24:29.668032Z",
     "iopub.status.busy": "2023-12-24T10:24:29.667685Z",
     "iopub.status.idle": "2023-12-24T10:24:29.676960Z",
     "shell.execute_reply": "2023-12-24T10:24:29.675790Z",
     "shell.execute_reply.started": "2023-12-24T10:24:29.668006Z"
    }
   },
   "outputs": [],
   "source": [
    "df.skew()"
   ]
  },
  {
   "cell_type": "markdown",
   "metadata": {},
   "source": [
    "## Detecting Outliers"
   ]
  },
  {
   "cell_type": "code",
   "execution_count": null,
   "metadata": {
    "execution": {
     "iopub.execute_input": "2023-12-24T10:24:55.680619Z",
     "iopub.status.busy": "2023-12-24T10:24:55.680290Z",
     "iopub.status.idle": "2023-12-24T10:24:56.817603Z",
     "shell.execute_reply": "2023-12-24T10:24:56.816407Z",
     "shell.execute_reply.started": "2023-12-24T10:24:55.680594Z"
    }
   },
   "outputs": [],
   "source": [
    "plt.figure(figsize=(12,16))\n",
    "i=1\n",
    "for col in df.columns:\n",
    "    plt.subplot(4,3,i)\n",
    "    df[[col]].boxplot()\n",
    "    i+=1"
   ]
  },
  {
   "cell_type": "markdown",
   "metadata": {},
   "source": [
    "## Split The Data"
   ]
  },
  {
   "cell_type": "code",
   "execution_count": null,
   "metadata": {
    "execution": {
     "iopub.execute_input": "2023-12-24T11:01:58.730731Z",
     "iopub.status.busy": "2023-12-24T11:01:58.730370Z",
     "iopub.status.idle": "2023-12-24T11:01:58.736798Z",
     "shell.execute_reply": "2023-12-24T11:01:58.735849Z",
     "shell.execute_reply.started": "2023-12-24T11:01:58.730702Z"
    }
   },
   "outputs": [],
   "source": [
    "x = df.drop('Rings',axis=1)\n",
    "y = df['Rings']"
   ]
  },
  {
   "cell_type": "code",
   "execution_count": null,
   "metadata": {
    "execution": {
     "iopub.execute_input": "2023-12-24T11:05:19.128957Z",
     "iopub.status.busy": "2023-12-24T11:05:19.128408Z",
     "iopub.status.idle": "2023-12-24T11:05:19.137574Z",
     "shell.execute_reply": "2023-12-24T11:05:19.136495Z",
     "shell.execute_reply.started": "2023-12-24T11:05:19.128930Z"
    }
   },
   "outputs": [],
   "source": [
    "x_train,x_test,y_train,y_test = train_test_split(x,y,test_size=0.02,shuffle=True)\n",
    "print(x_train.shape)\n",
    "print(x_test.shape)\n",
    "print(y_train.shape)\n",
    "print(y_test.shape)"
   ]
  },
  {
   "cell_type": "code",
   "execution_count": null,
   "metadata": {
    "execution": {
     "iopub.execute_input": "2023-12-24T11:05:38.560942Z",
     "iopub.status.busy": "2023-12-24T11:05:38.560570Z",
     "iopub.status.idle": "2023-12-24T11:05:38.575906Z",
     "shell.execute_reply": "2023-12-24T11:05:38.574724Z",
     "shell.execute_reply.started": "2023-12-24T11:05:38.560914Z"
    }
   },
   "outputs": [],
   "source": [
    "x_train.head()"
   ]
  },
  {
   "cell_type": "code",
   "execution_count": null,
   "metadata": {
    "execution": {
     "iopub.execute_input": "2023-12-24T11:05:46.287230Z",
     "iopub.status.busy": "2023-12-24T11:05:46.286607Z",
     "iopub.status.idle": "2023-12-24T11:05:46.293917Z",
     "shell.execute_reply": "2023-12-24T11:05:46.293021Z",
     "shell.execute_reply.started": "2023-12-24T11:05:46.287201Z"
    }
   },
   "outputs": [],
   "source": [
    "y_train"
   ]
  },
  {
   "cell_type": "markdown",
   "metadata": {},
   "source": [
    "## Scale The Data"
   ]
  },
  {
   "cell_type": "code",
   "execution_count": null,
   "metadata": {
    "execution": {
     "iopub.execute_input": "2023-12-24T11:06:11.467260Z",
     "iopub.status.busy": "2023-12-24T11:06:11.466912Z",
     "iopub.status.idle": "2023-12-24T11:06:11.479176Z",
     "shell.execute_reply": "2023-12-24T11:06:11.478159Z",
     "shell.execute_reply.started": "2023-12-24T11:06:11.467233Z"
    }
   },
   "outputs": [],
   "source": [
    "scaler = MinMaxScaler()\n",
    "scaler.fit(x_train)"
   ]
  },
  {
   "cell_type": "code",
   "execution_count": null,
   "metadata": {
    "execution": {
     "iopub.execute_input": "2023-12-24T11:08:06.409311Z",
     "iopub.status.busy": "2023-12-24T11:08:06.408934Z",
     "iopub.status.idle": "2023-12-24T11:08:06.433871Z",
     "shell.execute_reply": "2023-12-24T11:08:06.432635Z",
     "shell.execute_reply.started": "2023-12-24T11:08:06.409281Z"
    }
   },
   "outputs": [],
   "source": [
    "x_train_scaled = pd.DataFrame(scaler.transform(x_train),columns=x_train.columns)\n",
    "x_test_scaled = pd.DataFrame(scaler.transform(x_test),columns=x_test.columns)\n",
    "x_train_scaled"
   ]
  },
  {
   "cell_type": "code",
   "execution_count": null,
   "metadata": {
    "execution": {
     "iopub.execute_input": "2023-12-24T11:08:14.448581Z",
     "iopub.status.busy": "2023-12-24T11:08:14.448234Z",
     "iopub.status.idle": "2023-12-24T11:08:14.464167Z",
     "shell.execute_reply": "2023-12-24T11:08:14.463109Z",
     "shell.execute_reply.started": "2023-12-24T11:08:14.448554Z"
    }
   },
   "outputs": [],
   "source": [
    "x_test_scaled"
   ]
  },
  {
   "cell_type": "markdown",
   "metadata": {},
   "source": [
    "## Build Model"
   ]
  },
  {
   "cell_type": "markdown",
   "metadata": {},
   "source": [
    "## LinearRegression"
   ]
  },
  {
   "cell_type": "code",
   "execution_count": null,
   "metadata": {
    "execution": {
     "iopub.execute_input": "2023-12-24T11:11:22.761611Z",
     "iopub.status.busy": "2023-12-24T11:11:22.761148Z",
     "iopub.status.idle": "2023-12-24T11:11:22.790469Z",
     "shell.execute_reply": "2023-12-24T11:11:22.789613Z",
     "shell.execute_reply.started": "2023-12-24T11:11:22.761572Z"
    }
   },
   "outputs": [],
   "source": [
    "model = LinearRegression()\n",
    "model.fit(x_train_scaled, y_train)"
   ]
  },
  {
   "cell_type": "code",
   "execution_count": null,
   "metadata": {
    "execution": {
     "iopub.execute_input": "2023-12-24T11:12:28.577318Z",
     "iopub.status.busy": "2023-12-24T11:12:28.576986Z",
     "iopub.status.idle": "2023-12-24T11:12:28.585629Z",
     "shell.execute_reply": "2023-12-24T11:12:28.584415Z",
     "shell.execute_reply.started": "2023-12-24T11:12:28.577293Z"
    }
   },
   "outputs": [],
   "source": [
    "y_pred = model.predict(x_test_scaled)\n",
    "y_pred = np.around(y_pred,2)\n",
    "y_pred"
   ]
  },
  {
   "cell_type": "code",
   "execution_count": null,
   "metadata": {
    "execution": {
     "iopub.execute_input": "2023-12-24T11:13:03.905658Z",
     "iopub.status.busy": "2023-12-24T11:13:03.904803Z",
     "iopub.status.idle": "2023-12-24T11:13:03.912403Z",
     "shell.execute_reply": "2023-12-24T11:13:03.911412Z",
     "shell.execute_reply.started": "2023-12-24T11:13:03.905617Z"
    }
   },
   "outputs": [],
   "source": [
    "y_test.values"
   ]
  },
  {
   "cell_type": "code",
   "execution_count": null,
   "metadata": {
    "execution": {
     "iopub.execute_input": "2023-12-24T11:18:28.522368Z",
     "iopub.status.busy": "2023-12-24T11:18:28.522057Z",
     "iopub.status.idle": "2023-12-24T11:18:28.533198Z",
     "shell.execute_reply": "2023-12-24T11:18:28.532401Z",
     "shell.execute_reply.started": "2023-12-24T11:18:28.522343Z"
    }
   },
   "outputs": [],
   "source": [
    "print('----Model Evaluation On Test Data----')\n",
    "print()\n",
    "print(f\"MAE : {mean_absolute_error(y_test,y_pred)}\")\n",
    "print(f\"MSE: {mean_squared_error(y_test,y_pred)}\")\n",
    "print(f\"R2 Score : {r2_score(y_test,y_pred)}\")\n",
    "\n",
    "print('-----------------------------------------------')\n",
    "## For Train Data\n",
    "y_pred_tr = model.predict(x_train_scaled)\n",
    "\n",
    "print('----Model Evaluation On Train Data----')\n",
    "print()\n",
    "print(f\"MAE : {mean_absolute_error(y_train,y_pred_tr)}\")\n",
    "print(f\"MSE: {mean_squared_error(y_train,y_pred_tr)}\")\n",
    "print(f\"R2 Score : {r2_score(y_train,y_pred_tr)}\")"
   ]
  },
  {
   "cell_type": "markdown",
   "metadata": {},
   "source": [
    "## RandomForestRegressor"
   ]
  },
  {
   "cell_type": "code",
   "execution_count": null,
   "metadata": {
    "execution": {
     "iopub.execute_input": "2023-12-24T11:25:22.280337Z",
     "iopub.status.busy": "2023-12-24T11:25:22.280024Z",
     "iopub.status.idle": "2023-12-24T11:25:23.931044Z",
     "shell.execute_reply": "2023-12-24T11:25:23.929995Z",
     "shell.execute_reply.started": "2023-12-24T11:25:22.280312Z"
    }
   },
   "outputs": [],
   "source": [
    "rf_model = RandomForestRegressor()\n",
    "rf_model.fit(x_train, y_train)"
   ]
  },
  {
   "cell_type": "code",
   "execution_count": null,
   "metadata": {
    "execution": {
     "iopub.execute_input": "2023-12-24T11:25:28.369637Z",
     "iopub.status.busy": "2023-12-24T11:25:28.369323Z",
     "iopub.status.idle": "2023-12-24T11:25:28.387863Z",
     "shell.execute_reply": "2023-12-24T11:25:28.386897Z",
     "shell.execute_reply.started": "2023-12-24T11:25:28.369611Z"
    }
   },
   "outputs": [],
   "source": [
    "y_pred = rf_model.predict(x_test)\n",
    "y_pred = np.around(y_pred,2)\n",
    "y_pred"
   ]
  },
  {
   "cell_type": "code",
   "execution_count": null,
   "metadata": {
    "execution": {
     "iopub.execute_input": "2023-12-24T11:25:31.882796Z",
     "iopub.status.busy": "2023-12-24T11:25:31.882458Z",
     "iopub.status.idle": "2023-12-24T11:25:31.890531Z",
     "shell.execute_reply": "2023-12-24T11:25:31.889262Z",
     "shell.execute_reply.started": "2023-12-24T11:25:31.882767Z"
    }
   },
   "outputs": [],
   "source": [
    "y_test.values"
   ]
  },
  {
   "cell_type": "code",
   "execution_count": null,
   "metadata": {
    "execution": {
     "iopub.execute_input": "2023-12-24T11:25:40.050016Z",
     "iopub.status.busy": "2023-12-24T11:25:40.049655Z",
     "iopub.status.idle": "2023-12-24T11:25:40.123035Z",
     "shell.execute_reply": "2023-12-24T11:25:40.122027Z",
     "shell.execute_reply.started": "2023-12-24T11:25:40.049988Z"
    }
   },
   "outputs": [],
   "source": [
    "print('----Model Evaluation On Test Data----')\n",
    "print()\n",
    "print(f\"MAE : {mean_absolute_error(y_test,y_pred)}\")\n",
    "print(f\"MSE: {mean_squared_error(y_test,y_pred)}\")\n",
    "print(f\"R2 Score : {r2_score(y_test,y_pred)}\")\n",
    "\n",
    "print('-----------------------------------------------')\n",
    "## For Train Data\n",
    "y_pred_tr = rf_model.predict(x_train)\n",
    "\n",
    "print('----Model Evaluation On Train Data----')\n",
    "print()\n",
    "print(f\"MAE : {mean_absolute_error(y_train,y_pred_tr)}\")\n",
    "print(f\"MSE: {mean_squared_error(y_train,y_pred_tr)}\")\n",
    "print(f\"R2 Score : {r2_score(y_train,y_pred_tr)}\")"
   ]
  },
  {
   "cell_type": "markdown",
   "metadata": {},
   "source": [
    "## Hyperparameter Tunning Random Forest Regression"
   ]
  },
  {
   "cell_type": "code",
   "execution_count": null,
   "metadata": {
    "execution": {
     "iopub.execute_input": "2023-12-24T11:31:07.713789Z",
     "iopub.status.busy": "2023-12-24T11:31:07.713488Z",
     "iopub.status.idle": "2023-12-24T11:35:11.233178Z",
     "shell.execute_reply": "2023-12-24T11:35:11.232266Z",
     "shell.execute_reply.started": "2023-12-24T11:31:07.713762Z"
    }
   },
   "outputs": [],
   "source": [
    "rf_model = RandomForestRegressor()\n",
    "\n",
    "param_grid = {'n_estimators':np.arange(50,200),\n",
    "    'criterion':[\"squared_error\", \"absolute_error\", \"friedman_mse\", \"poisson\"],\n",
    "    'max_depth':np.arange(2,25),\n",
    "    'min_samples_split':np.arange(2,25),\n",
    "    'min_samples_leaf':np.arange(2,25)}\n",
    "\n",
    "rscv_rf_model = RandomizedSearchCV(rf_model,param_grid, cv=5)\n",
    "rscv_rf_model.fit(x_train,y_train)\n",
    "rscv_rf_model.best_estimator_"
   ]
  },
  {
   "cell_type": "code",
   "execution_count": null,
   "metadata": {
    "execution": {
     "iopub.execute_input": "2023-12-24T11:35:11.235075Z",
     "iopub.status.busy": "2023-12-24T11:35:11.234536Z",
     "iopub.status.idle": "2023-12-24T11:35:11.250781Z",
     "shell.execute_reply": "2023-12-24T11:35:11.249470Z",
     "shell.execute_reply.started": "2023-12-24T11:35:11.235050Z"
    }
   },
   "outputs": [],
   "source": [
    "new_rf_model = rscv_rf_model.best_estimator_\n",
    "\n",
    "y_pred = new_rf_model.predict(x_test)\n",
    "y_pred = np.around(y_pred,2)\n",
    "y_pred"
   ]
  },
  {
   "cell_type": "code",
   "execution_count": null,
   "metadata": {
    "execution": {
     "iopub.execute_input": "2023-12-24T11:35:11.252627Z",
     "iopub.status.busy": "2023-12-24T11:35:11.252299Z",
     "iopub.status.idle": "2023-12-24T11:35:11.262072Z",
     "shell.execute_reply": "2023-12-24T11:35:11.260746Z",
     "shell.execute_reply.started": "2023-12-24T11:35:11.252597Z"
    }
   },
   "outputs": [],
   "source": [
    "y_test.values"
   ]
  },
  {
   "cell_type": "code",
   "execution_count": null,
   "metadata": {
    "execution": {
     "iopub.execute_input": "2023-12-24T11:35:11.264863Z",
     "iopub.status.busy": "2023-12-24T11:35:11.264253Z",
     "iopub.status.idle": "2023-12-24T11:35:11.323445Z",
     "shell.execute_reply": "2023-12-24T11:35:11.322819Z",
     "shell.execute_reply.started": "2023-12-24T11:35:11.264812Z"
    }
   },
   "outputs": [],
   "source": [
    "print('----Model Evaluation On Test Data----')\n",
    "print()\n",
    "print(f\"MAE : {mean_absolute_error(y_test,y_pred)}\")\n",
    "print(f\"MSE: {mean_squared_error(y_test,y_pred)}\")\n",
    "print(f\"R2 Score : {r2_score(y_test,y_pred)}\")\n",
    "\n",
    "print('-----------------------------------------------')\n",
    "## For Train Data\n",
    "y_pred_tr = new_rf_model.predict(x_train)\n",
    "\n",
    "print('----Model Evaluation On Train Data----')\n",
    "print()\n",
    "print(f\"MAE : {mean_absolute_error(y_train,y_pred_tr)}\")\n",
    "print(f\"MSE: {mean_squared_error(y_train,y_pred_tr)}\")\n",
    "print(f\"R2 Score : {r2_score(y_train,y_pred_tr)}\")"
   ]
  },
  {
   "cell_type": "code",
   "execution_count": null,
   "metadata": {
    "execution": {
     "iopub.execute_input": "2023-12-24T11:36:13.291974Z",
     "iopub.status.busy": "2023-12-24T11:36:13.291598Z",
     "iopub.status.idle": "2023-12-24T11:36:13.306468Z",
     "shell.execute_reply": "2023-12-24T11:36:13.305564Z",
     "shell.execute_reply.started": "2023-12-24T11:36:13.291942Z"
    }
   },
   "outputs": [],
   "source": [
    "new_rf_model.feature_importances_"
   ]
  },
  {
   "cell_type": "code",
   "execution_count": null,
   "metadata": {
    "execution": {
     "iopub.execute_input": "2023-12-24T11:37:32.325320Z",
     "iopub.status.busy": "2023-12-24T11:37:32.324977Z",
     "iopub.status.idle": "2023-12-24T11:37:32.339719Z",
     "shell.execute_reply": "2023-12-24T11:37:32.338859Z",
     "shell.execute_reply.started": "2023-12-24T11:37:32.325290Z"
    }
   },
   "outputs": [],
   "source": [
    "features_imp = pd.Series(new_rf_model.feature_importances_,index=x_train.columns)\n",
    "features_imp"
   ]
  },
  {
   "cell_type": "code",
   "execution_count": null,
   "metadata": {
    "execution": {
     "iopub.execute_input": "2023-12-24T11:40:00.994541Z",
     "iopub.status.busy": "2023-12-24T11:40:00.994116Z",
     "iopub.status.idle": "2023-12-24T11:40:01.200363Z",
     "shell.execute_reply": "2023-12-24T11:40:01.199692Z",
     "shell.execute_reply.started": "2023-12-24T11:40:00.994508Z"
    }
   },
   "outputs": [],
   "source": [
    "features_imp.plot(kind='barh')\n",
    "plt.title('Features Importance Distributions',fontsize=14)\n",
    "plt.show()"
   ]
  },
  {
   "cell_type": "code",
   "execution_count": null,
   "metadata": {},
   "outputs": [],
   "source": []
  },
  {
   "cell_type": "code",
   "execution_count": null,
   "metadata": {
    "execution": {
     "iopub.execute_input": "2023-12-24T11:41:37.769557Z",
     "iopub.status.busy": "2023-12-24T11:41:37.768795Z",
     "iopub.status.idle": "2023-12-24T11:41:37.927448Z",
     "shell.execute_reply": "2023-12-24T11:41:37.926461Z",
     "shell.execute_reply.started": "2023-12-24T11:41:37.769511Z"
    }
   },
   "outputs": [],
   "source": [
    "xgb_model = XGBRegressor()\n",
    "xgb_model.fit(x_train,y_train)"
   ]
  },
  {
   "cell_type": "code",
   "execution_count": null,
   "metadata": {
    "execution": {
     "iopub.execute_input": "2023-12-24T11:55:26.023433Z",
     "iopub.status.busy": "2023-12-24T11:55:26.023090Z",
     "iopub.status.idle": "2023-12-24T11:55:26.034373Z",
     "shell.execute_reply": "2023-12-24T11:55:26.033693Z",
     "shell.execute_reply.started": "2023-12-24T11:55:26.023406Z"
    }
   },
   "outputs": [],
   "source": [
    "y_pred = xgb_model.predict(x_test)\n",
    "y_pred = np.around(y_pred,2)\n",
    "y_pred"
   ]
  },
  {
   "cell_type": "code",
   "execution_count": null,
   "metadata": {
    "execution": {
     "iopub.execute_input": "2023-12-24T11:55:38.992180Z",
     "iopub.status.busy": "2023-12-24T11:55:38.991809Z",
     "iopub.status.idle": "2023-12-24T11:55:39.007288Z",
     "shell.execute_reply": "2023-12-24T11:55:39.006673Z",
     "shell.execute_reply.started": "2023-12-24T11:55:38.992151Z"
    }
   },
   "outputs": [],
   "source": [
    "print('----Model Evaluation On Test Data----')\n",
    "print()\n",
    "print(f\"MAE : {mean_absolute_error(y_test,y_pred)}\")\n",
    "print(f\"MSE: {mean_squared_error(y_test,y_pred)}\")\n",
    "print(f\"R2 Score : {r2_score(y_test,y_pred)}\")\n",
    "\n",
    "print('-----------------------------------------------')\n",
    "## For Train Data\n",
    "y_pred_tr = xgb_model.predict(x_train)\n",
    "\n",
    "print('----Model Evaluation On Train Data----')\n",
    "print()\n",
    "print(f\"MAE : {mean_absolute_error(y_train,y_pred_tr)}\")\n",
    "print(f\"MSE: {mean_squared_error(y_train,y_pred_tr)}\")\n",
    "print(f\"R2 Score : {r2_score(y_train,y_pred_tr)}\")"
   ]
  },
  {
   "cell_type": "markdown",
   "metadata": {},
   "source": [
    "## Save Model"
   ]
  },
  {
   "cell_type": "code",
   "execution_count": null,
   "metadata": {
    "execution": {
     "iopub.execute_input": "2023-12-24T11:56:31.481685Z",
     "iopub.status.busy": "2023-12-24T11:56:31.481343Z",
     "iopub.status.idle": "2023-12-24T11:56:31.490326Z",
     "shell.execute_reply": "2023-12-24T11:56:31.489299Z",
     "shell.execute_reply.started": "2023-12-24T11:56:31.481658Z"
    }
   },
   "outputs": [],
   "source": [
    "new_rf_model"
   ]
  },
  {
   "cell_type": "code",
   "execution_count": null,
   "metadata": {
    "execution": {
     "iopub.execute_input": "2023-12-24T11:58:31.943746Z",
     "iopub.status.busy": "2023-12-24T11:58:31.943142Z",
     "iopub.status.idle": "2023-12-24T11:58:31.949952Z",
     "shell.execute_reply": "2023-12-24T11:58:31.948684Z",
     "shell.execute_reply.started": "2023-12-24T11:58:31.943716Z"
    }
   },
   "outputs": [],
   "source": [
    "scaler"
   ]
  },
  {
   "cell_type": "code",
   "execution_count": null,
   "metadata": {
    "execution": {
     "iopub.execute_input": "2023-12-24T11:59:34.537209Z",
     "iopub.status.busy": "2023-12-24T11:59:34.536854Z",
     "iopub.status.idle": "2023-12-24T11:59:34.548530Z",
     "shell.execute_reply": "2023-12-24T11:59:34.547401Z",
     "shell.execute_reply.started": "2023-12-24T11:59:34.537180Z"
    }
   },
   "outputs": [],
   "source": [
    "with open('rf_model.pickle','wb') as file:\n",
    "    pickle.dump(new_rf_model,file)\n",
    "    \n",
    "with open('scaler.pickle','wb') as file:\n",
    "    pickle.dump(scaler,file)"
   ]
  },
  {
   "cell_type": "code",
   "execution_count": null,
   "metadata": {
    "execution": {
     "iopub.execute_input": "2023-12-24T12:03:12.340751Z",
     "iopub.status.busy": "2023-12-24T12:03:12.339743Z",
     "iopub.status.idle": "2023-12-24T12:03:12.349433Z",
     "shell.execute_reply": "2023-12-24T12:03:12.348504Z",
     "shell.execute_reply.started": "2023-12-24T12:03:12.340718Z"
    }
   },
   "outputs": [],
   "source": [
    "features_dict = {'columns':list(x_train.columns),'Sex':{'Female':0,'Male':1,'Infant':2}}\n",
    "features_dict"
   ]
  },
  {
   "cell_type": "code",
   "execution_count": null,
   "metadata": {
    "execution": {
     "iopub.execute_input": "2023-12-24T12:03:13.364581Z",
     "iopub.status.busy": "2023-12-24T12:03:13.363750Z",
     "iopub.status.idle": "2023-12-24T12:03:13.370853Z",
     "shell.execute_reply": "2023-12-24T12:03:13.369883Z",
     "shell.execute_reply.started": "2023-12-24T12:03:13.364551Z"
    }
   },
   "outputs": [],
   "source": [
    "len(features_dict['columns'])"
   ]
  },
  {
   "cell_type": "code",
   "execution_count": null,
   "metadata": {
    "execution": {
     "iopub.execute_input": "2023-12-24T12:03:21.232608Z",
     "iopub.status.busy": "2023-12-24T12:03:21.231390Z",
     "iopub.status.idle": "2023-12-24T12:03:21.239011Z",
     "shell.execute_reply": "2023-12-24T12:03:21.237893Z",
     "shell.execute_reply.started": "2023-12-24T12:03:21.232565Z"
    }
   },
   "outputs": [],
   "source": [
    "features_dict['Sex']['Female']"
   ]
  },
  {
   "cell_type": "code",
   "execution_count": null,
   "metadata": {
    "execution": {
     "iopub.execute_input": "2023-12-24T12:04:11.356849Z",
     "iopub.status.busy": "2023-12-24T12:04:11.356504Z",
     "iopub.status.idle": "2023-12-24T12:04:11.362429Z",
     "shell.execute_reply": "2023-12-24T12:04:11.361264Z",
     "shell.execute_reply.started": "2023-12-24T12:04:11.356802Z"
    }
   },
   "outputs": [],
   "source": [
    "with open('features_data.json','w') as file:\n",
    "    json.dump(features_dict,file)"
   ]
  },
  {
   "cell_type": "code",
   "execution_count": null,
   "metadata": {
    "execution": {
     "iopub.execute_input": "2023-12-24T12:05:10.576229Z",
     "iopub.status.busy": "2023-12-24T12:05:10.575875Z",
     "iopub.status.idle": "2023-12-24T12:05:10.591425Z",
     "shell.execute_reply": "2023-12-24T12:05:10.590277Z",
     "shell.execute_reply.started": "2023-12-24T12:05:10.576197Z"
    }
   },
   "outputs": [],
   "source": [
    "df.head()"
   ]
  },
  {
   "cell_type": "markdown",
   "metadata": {},
   "source": [
    "## Taking User Inputs"
   ]
  },
  {
   "cell_type": "code",
   "execution_count": null,
   "metadata": {
    "execution": {
     "iopub.execute_input": "2023-12-24T12:09:20.348171Z",
     "iopub.status.busy": "2023-12-24T12:09:20.347854Z",
     "iopub.status.idle": "2023-12-24T12:09:20.353458Z",
     "shell.execute_reply": "2023-12-24T12:09:20.351913Z",
     "shell.execute_reply.started": "2023-12-24T12:09:20.348144Z"
    }
   },
   "outputs": [],
   "source": [
    "import warnings\n",
    "warnings.filterwarnings('ignore')"
   ]
  },
  {
   "cell_type": "code",
   "execution_count": null,
   "metadata": {
    "execution": {
     "iopub.execute_input": "2023-12-24T12:12:10.332041Z",
     "iopub.status.busy": "2023-12-24T12:12:10.331716Z",
     "iopub.status.idle": "2023-12-24T12:12:10.345174Z",
     "shell.execute_reply": "2023-12-24T12:12:10.344362Z",
     "shell.execute_reply.started": "2023-12-24T12:12:10.332013Z"
    }
   },
   "outputs": [],
   "source": [
    "input_data = [1,0.455,0.365,0.095,0.5140,0.2245,0.1010,0.15]\n",
    "print('Input Data:',input_data)\n",
    "print()\n",
    "input_data_scaled = scaler.transform([input_data])\n",
    "print(\"Scaled User Data:\",input_data_scaled)\n",
    "print()\n",
    "pred = new_rf_model.predict(input_data_scaled)[0]\n",
    "print(f\"Predicted Age is: {pred:.2f} Yr\")"
   ]
  },
  {
   "cell_type": "code",
   "execution_count": null,
   "metadata": {},
   "outputs": [],
   "source": []
  }
 ],
 "metadata": {
  "kaggle": {
   "accelerator": "none",
   "dataSources": [
    {
     "datasetId": 37691,
     "sourceId": 57419,
     "sourceType": "datasetVersion"
    }
   ],
   "dockerImageVersionId": 30626,
   "isGpuEnabled": false,
   "isInternetEnabled": true,
   "language": "python",
   "sourceType": "notebook"
  },
  "kernelspec": {
   "display_name": "Python 3 (ipykernel)",
   "language": "python",
   "name": "python3"
  },
  "language_info": {
   "codemirror_mode": {
    "name": "ipython",
    "version": 3
   },
   "file_extension": ".py",
   "mimetype": "text/x-python",
   "name": "python",
   "nbconvert_exporter": "python",
   "pygments_lexer": "ipython3",
   "version": "3.10.6"
  }
 },
 "nbformat": 4,
 "nbformat_minor": 4
}
